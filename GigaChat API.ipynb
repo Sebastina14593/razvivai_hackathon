{
 "cells": [
  {
   "cell_type": "code",
   "execution_count": 1,
   "id": "92b6c54d-6695-4b1b-8d86-4bb4314380f0",
   "metadata": {},
   "outputs": [],
   "source": [
    "#Уберем предупреждения, чтобы они не загромождали вывод\n",
    "import warnings \n",
    "warnings.filterwarnings('ignore')"
   ]
  },
  {
   "cell_type": "code",
   "execution_count": 2,
   "id": "af7dda2a-80ce-4206-871e-d9593ff03457",
   "metadata": {},
   "outputs": [],
   "source": [
    "client_id = 'bcf40466-3e35-4583-a25b-a73219d9f796'\n",
    "secret = '35709e53-1531-40f5-8fe2-bfb739a190e8'\n",
    "auth = 'YmNmNDA0NjYtM2UzNS00NTgzLWEyNWItYTczMjE5ZDlmNzk2OjM1NzA5ZTUzLTE1MzEtNDBmNS04ZmUyLWJmYjczOWExOTBlOA=='"
   ]
  },
  {
   "cell_type": "code",
   "execution_count": 6,
   "id": "46f66e9d-d7af-4b5f-b7db-26dbb76cf785",
   "metadata": {},
   "outputs": [],
   "source": [
    "# auth = 'ODQ4ODM5MWQtYWViZi00ZGU1LWEzODItMjA5NzRkMDE3Y2VmOmVhOWU3YjRlLTQ2MGEtNDE4Yy1iNZI0LWMxM2M4YmZlNDc3MA=='"
   ]
  },
  {
   "cell_type": "code",
   "execution_count": 3,
   "id": "67219f37-8f11-4b06-a04d-805bb1a28432",
   "metadata": {},
   "outputs": [],
   "source": [
    "import base64\n",
    "credentials = f\"{client_id}:{secret}\"\n",
    "encoded_credentials = base64.b64encode(credentials.encode('utf-8')).decode('utf-8')"
   ]
  },
  {
   "cell_type": "code",
   "execution_count": 4,
   "id": "ea5aad0f-40de-449e-bcfd-413aab50019f",
   "metadata": {},
   "outputs": [
    {
     "data": {
      "text/plain": [
       "True"
      ]
     },
     "execution_count": 4,
     "metadata": {},
     "output_type": "execute_result"
    }
   ],
   "source": [
    "auth == encoded_credentials"
   ]
  },
  {
   "cell_type": "code",
   "execution_count": 4,
   "id": "d6820f6a-0128-4d5c-b629-1b9d29728b78",
   "metadata": {},
   "outputs": [],
   "source": [
    "import requests\n",
    "import uuid"
   ]
  },
  {
   "cell_type": "code",
   "execution_count": 13,
   "id": "3ce67f4a-122d-46a0-801f-8325f9821fc4",
   "metadata": {},
   "outputs": [],
   "source": [
    "def get_token(auth_token, scope = 'GIGACHAT_API_PERS'):\n",
    "    \"\"\"\n",
    "    Выполняет POST-запрос к эндпоинту, который выдает токен.\n",
    "\n",
    "    Параметры:\n",
    "    - auth_token (str): токен авторизации, необходимый для запроса.\n",
    "    - область (str): область действия запроса API. По умолчанию - \"GIGACHAT_API_PERS\" (физическое лицо, иначе юридическое).\n",
    "\n",
    "    Возвращает:\n",
    "    - ответ API, где токен и срок его \"годности\".\n",
    "    \"\"\"\n",
    "\n",
    "    # создадим идентификатор UUID (36 знаков)\n",
    "    rq_uid = str(uuid.uuid4())\n",
    "\n",
    "    # API URL\n",
    "    url = \"https://ngw.devices.sberbank.ru:9443/api/v2/oauth\"\n",
    "\n",
    "    # Заголовки\n",
    "    headers = {\n",
    "      'Content-Type': 'application/x-www-form-urlencoded',\n",
    "      'Accept': 'application/json',\n",
    "      'RqUID': rq_uid,\n",
    "      'Authorization': f'Basic {auth_token}'\n",
    "    }\n",
    "\n",
    "    # Тело запроса\n",
    "    payload = {\"scope\" : scope}\n",
    "\n",
    "    try:\n",
    "        # делаем POST запрос с отключенной SSL верификацией\n",
    "        # (можно скачать сертификаты Минцифры, тогда отлюкчать проверку не надо)\n",
    "        response = requests.post(url, headers = headers, data = payload, verify = False)\n",
    "        return response\n",
    "    except requests.RequestException as e:\n",
    "        print(f\"Ошибка: {str(e)}\")\n",
    "        return -1"
   ]
  },
  {
   "cell_type": "code",
   "execution_count": 14,
   "id": "b047db27-7e89-426a-89d2-f5b597240838",
   "metadata": {},
   "outputs": [
    {
     "name": "stdout",
     "output_type": "stream",
     "text": [
      "Ошибка: HTTPSConnectionPool(host='ngw.devices.sberbank.ru', port=9443): Max retries exceeded with url: /api/v2/oauth (Caused by SSLError(SSLCertVerificationError(1, '[SSL: CERTIFICATE_VERIFY_FAILED] certificate verify failed: self-signed certificate in certificate chain (_ssl.c:1006)')))\n"
     ]
    }
   ],
   "source": [
    "response = get_token(auth)\n",
    "if response != -1:\n",
    "    print(response.text)\n",
    "    giga_token = response.json()[\"access_token\"]"
   ]
  },
  {
   "cell_type": "markdown",
   "id": "eb0d5f34-9199-4a44-aaf4-994ea30e7113",
   "metadata": {},
   "source": [
    "Получение перечня моделей"
   ]
  },
  {
   "cell_type": "code",
   "execution_count": null,
   "id": "916706f0-ece1-4fc8-9b5d-fb776faf2266",
   "metadata": {},
   "outputs": [],
   "source": []
  },
  {
   "cell_type": "code",
   "execution_count": null,
   "id": "7466e774-1ea2-4b49-bf14-568affe46d5f",
   "metadata": {},
   "outputs": [],
   "source": []
  },
  {
   "cell_type": "code",
   "execution_count": null,
   "id": "7aab8976-c920-4225-9abc-9665efaa92d6",
   "metadata": {},
   "outputs": [],
   "source": []
  },
  {
   "cell_type": "code",
   "execution_count": null,
   "id": "1a236a98-26d3-47bc-88f4-67e12ee3acb6",
   "metadata": {},
   "outputs": [],
   "source": []
  },
  {
   "cell_type": "code",
   "execution_count": null,
   "id": "6756d1d1-6d0f-4f7c-aa4e-aea92d1404ed",
   "metadata": {},
   "outputs": [],
   "source": []
  },
  {
   "cell_type": "code",
   "execution_count": null,
   "id": "64ce2be2-1c0b-4cb1-94c2-437175811d7c",
   "metadata": {},
   "outputs": [],
   "source": []
  },
  {
   "cell_type": "code",
   "execution_count": 8,
   "id": "d714939b-d001-4796-93e3-236dc75331a0",
   "metadata": {},
   "outputs": [
    {
     "name": "stdout",
     "output_type": "stream",
     "text": [
      "{\"object\":\"list\",\"data\":[{\"id\":\"GigaChat\",\"object\":\"model\",\"owned_by\":\"salutedevices\"},{\"id\":\"GigaChat-Plus\",\"object\":\"model\",\"owned_by\":\"salutedevices\"},{\"id\":\"GigaChat-Pro\",\"object\":\"model\",\"owned_by\":\"salutedevices\"},{\"id\":\"GigaChat-Pro-preview\",\"object\":\"model\",\"owned_by\":\"salutedevices\"}]}\n"
     ]
    }
   ],
   "source": [
    "import requests\n",
    "\n",
    "url = \"https://gigachat.devices.sberbank.ru/api/v1/models\"\n",
    "\n",
    "payload =  {}\n",
    "headers = {\n",
    "  'Accept': 'application/json',\n",
    "  'Authorization': f'Bearer {giga_token}'\n",
    "}\n",
    "\n",
    "response = requests.request(\"GET\", url, headers=headers, data=payload, verify = False) # verify = False - непроверенный сертификат шифрования\n",
    "\n",
    "print(response.text)"
   ]
  },
  {
   "cell_type": "code",
   "execution_count": 24,
   "id": "d1eb0d2e-7180-461c-883c-a3b9dae27f2d",
   "metadata": {},
   "outputs": [],
   "source": [
    "import requests\n",
    "import json\n",
    "\n",
    "def get_chat_completion(auth_token, user_message):\n",
    "    \"\"\"\n",
    "    Отправляет POST-запрос к API чата для получения ответа от модели GigaChat.\n",
    "\n",
    "    Параметры:\n",
    "    - auth_token (str): Токен для авторизации в API\n",
    "    - user_message (str): Сообщение от пользователя, для которого нужно получить ответ.\n",
    "\n",
    "    Возвращает:\n",
    "    - str: Ответ от API в виде текстовой строки.\n",
    "    \n",
    "    \"\"\"\n",
    "\n",
    "    # URL API, к которому мы обращаемся\n",
    "    url = \"https://gigachat.devices.sberbank.ru/api/v1/chat/completions\"\n",
    "\n",
    "    # Подготовка данных запроса в формате JSON\n",
    "    payload = json.dumps({\n",
    "          \"model\": \"GigaChat\", # Используемая модель\n",
    "          \"messages\": [\n",
    "            {\n",
    "              \"role\": \"user\", # Роль отправителя (пользователь)\n",
    "              \"content\": user_message # Содержание сообщения\n",
    "            }\n",
    "          ],\n",
    "          \"temperature\": 1, # Генерация температуры (насколько случайным будет ответ при генерации ответа. Если 0, то будет выбираться самый надежный результат (всегда один и тот же ответ))\n",
    "          \"top_p\": 0.1, # Параметр top_p для контроля разнообразия ответов (также за разнообразие)\n",
    "          \"n\": 1, # Количество возвращаемых ответов\n",
    "          \"stream\": False, # Потоквая ли передача ответов (отправляется ли каждый токен в ответ пользователю или сразу весь ответ)\n",
    "          \"max_tokens\": 512, # Максимальное количество токенов в ответе\n",
    "          \"repetition_penalty\": 1, # Штраф за повторения (можно ставить побольше, чтобы не повторялись в больших текстах)\n",
    "          \"update_interval\": 0 # Интервал обновления (для потоковой передачи)\n",
    "        })\n",
    "\n",
    "    # Заголовки запроса\n",
    "    headers = {\n",
    "      'Content-Type': 'application/json', # Тип содержимого - JSON\n",
    "      'Accept': 'application/json', # Принимаем ответ в формате JSON\n",
    "      'Authorization': f'Bearer {auth_token}' # Токен авторизации\n",
    "    }\n",
    "\n",
    "    try:\n",
    "        # response = requests.post(\"POST\", url, headers=headers, data=payload, verify=False)\n",
    "        response = requests.post(url, headers=headers, data=payload, verify=False)\n",
    "        return response\n",
    "    except requests.RequestException as e:\n",
    "        # Обработка исключения в случае ошибки запроса\n",
    "        print(f\"Произошла ошибка: {str(e)}\")\n",
    "        return -1"
   ]
  },
  {
   "cell_type": "code",
   "execution_count": 25,
   "id": "839bfd57-fdbb-4a64-b676-81bfc5f5aa6e",
   "metadata": {},
   "outputs": [],
   "source": [
    "answer = get_chat_completion(giga_token, \"Как на Пайтоне сделать GET запрос\")"
   ]
  },
  {
   "cell_type": "code",
   "execution_count": 26,
   "id": "e72a7f1e-45f0-4f03-a395-7ded2497927c",
   "metadata": {},
   "outputs": [
    {
     "data": {
      "text/markdown": [
       "Вы можете использовать модуль `requests` для отправки GET-запросов на Python. Вот базовый пример:\n",
       "\n",
       "```python\n",
       "import requests\n",
       "\n",
       "response = requests.get('http://example.com')\n",
       "\n",
       "```\n",
       "\n",
       "В этом примере мы отправляем GET-запрос на URL 'http://example.com' и сохраняем ответ в переменной `response`.\n",
       "\n",
       "Обратите внимание, что этот код не обрабатывает возможные ошибки или исключения, которые могут возникнуть при отправке запроса. Вам может потребоваться добавить дополнительный код для обработки этих ситуаций."
      ],
      "text/plain": [
       "<IPython.core.display.Markdown object>"
      ]
     },
     "metadata": {},
     "output_type": "display_data"
    }
   ],
   "source": [
    "from IPython.display import display, Markdown\n",
    "display(Markdown(answer.json()['choices'][0]['message']['content']))"
   ]
  },
  {
   "cell_type": "markdown",
   "id": "9bbcfbfa-e709-48c5-be8c-28bad4e414ea",
   "metadata": {},
   "source": [
    "Создадим диалог"
   ]
  },
  {
   "cell_type": "code",
   "execution_count": null,
   "id": "d4a3ec3e-5ec4-4afd-81d2-e36f708fc03c",
   "metadata": {},
   "outputs": [],
   "source": []
  },
  {
   "cell_type": "code",
   "execution_count": 37,
   "id": "0771ab6d-1f6e-4c37-95b8-8653bec8210d",
   "metadata": {},
   "outputs": [],
   "source": [
    "import requests\n",
    "import json\n",
    "\n",
    "def get_chat_completion(auth_token, user_message, conversation_history):\n",
    "    \"\"\"\n",
    "    Отправляет POST-запрос к API чата для получения ответа от модели GigaChat.\n",
    "\n",
    "    Параметры:\n",
    "    - auth_token (str): Токен для авторизации в API\n",
    "    - user_message (str): Сообщение от пользователя, для которого нужно получить ответ.\n",
    "    - conversation_history (list): История диалога в виде списка сообщений (опционально).\n",
    "\n",
    "    Возвращает:\n",
    "    - response (requests.esponse): Ответ от API.\n",
    "    - conversation_history (list): Обновленная история диалога.\n",
    "    \n",
    "    \"\"\"\n",
    "\n",
    "    # URL API, к которому мы обращаемся\n",
    "    url = \"https://gigachat.devices.sberbank.ru/api/v1/chat/completions\"\n",
    "\n",
    "    # Если история диалога не предоставлена, инициализируем пустыс списком\n",
    "    if len(conversation_history) == 0:\n",
    "        conversation_history = []\n",
    "    else:\n",
    "        user_message = \"Теперь представь что ты гопник из 90х и ответь на другой вопрос пользователя: \" + user_message\n",
    "        print(user_message)\n",
    "\n",
    "    conversation_history.append({\n",
    "        \"role\": \"user\",\n",
    "        \"content\": user_message\n",
    "    })\n",
    "\n",
    "    # Подготовка данных запроса в формате JSON\n",
    "    payload = json.dumps({\n",
    "          \"model\": \"GigaChat\", # Используемая модель\n",
    "          # ниже список сообщений который и будет каждый раз перезаписываться\n",
    "          \"messages\": conversation_history,\n",
    "          \"temperature\": 1, # Генерация температуры (насколько случайным будет ответ при генерации ответа. Если 0, то будет выбираться самый надежный результат (всегда один и тот же ответ))\n",
    "          \"top_p\": 0.1, # Параметр top_p для контроля разнообразия ответов (также за разнообразие)\n",
    "          \"n\": 1, # Количество возвращаемых ответов\n",
    "          \"stream\": False, # Потоквая ли передача ответов (отправляется ли каждый токен в ответ пользователю или сразу весь ответ)\n",
    "          \"max_tokens\": 512, # Максимальное количество токенов в ответе\n",
    "          \"repetition_penalty\": 1, # Штраф за повторения (можно ставить побольше, чтобы не повторялись в больших текстах)\n",
    "          \"update_interval\": 0 # Интервал обновления (для потоковой передачи)\n",
    "        })\n",
    "\n",
    "    # Заголовки запроса\n",
    "    headers = {\n",
    "      'Content-Type': 'application/json', # Тип содержимого - JSON\n",
    "      'Accept': 'application/json', # Принимаем ответ в формате JSON\n",
    "      'Authorization': f'Bearer {auth_token}' # Токен авторизации\n",
    "    }\n",
    "\n",
    "    try:\n",
    "        # response = requests.post(\"POST\", url, headers=headers, data=payload, verify=False)\n",
    "        response = requests.post(url, headers=headers, data=payload, verify=False)\n",
    "        response_data = response.json()\n",
    "        print(response_data)\n",
    "\n",
    "        # Добавляем ответ модели в историю диалога\n",
    "        conversation_history.append({\n",
    "            \"role\": \"assistant\",\n",
    "            \"content\": response_data['choices'][0]['message']['content']\n",
    "        })\n",
    "        return response, conversation_history\n",
    "        \n",
    "    except requests.RequestException as e:\n",
    "        # Обработка исключения в случае ошибки запроса\n",
    "        print(f\"Произошла ошибка: {str(e)}\")\n",
    "        return None, conversation_history"
   ]
  },
  {
   "cell_type": "code",
   "execution_count": 46,
   "id": "3f6ca661-f953-405e-82c9-374058e5f8a2",
   "metadata": {},
   "outputs": [
    {
     "data": {
      "text/plain": [
       "\"[{'role': 'user', 'content': 'Привет, как дела?'}, {'role': 'assistant', 'content': 'Привет! Все хорошо, спасибо за интерес. Чем я могу вам помочь?'}, {'role': 'user', 'content': 'Теперь представь что ты гопник из 90х и ответь на другой вопрос пользователя: Чем должен заниматься программист?'}, {'role': 'assistant', 'content': 'Здорово, братан! Ну, чем должен заниматься программист? Да тем, что должен писать код, пацан. А то, что это за программист, если он не умеет код писать?'}]\""
      ]
     },
     "execution_count": 46,
     "metadata": {},
     "output_type": "execute_result"
    }
   ],
   "source": [
    "str(conversation_history)"
   ]
  },
  {
   "cell_type": "code",
   "execution_count": 14,
   "id": "52c18edc-375d-4161-8b7b-d8a72b87e34f",
   "metadata": {},
   "outputs": [
    {
     "name": "stdout",
     "output_type": "stream",
     "text": [
      "{'choices': [{'message': {'content': 'Привет! Все хорошо, спасибо за интерес. Чем я могу вам помочь?', 'role': 'assistant'}, 'index': 0, 'finish_reason': 'stop'}], 'created': 1713720101, 'model': 'GigaChat:3.1.24.3', 'object': 'chat.completion', 'usage': {'prompt_tokens': 16, 'completion_tokens': 18, 'total_tokens': 34, 'system_tokens': 204}}\n",
      "{'choices': [{'message': {'content': 'Я могу отвечать на вопросы, поддерживать беседу, предоставлять информацию, генерировать изображения и видео, а также выполнять арифметические действия.', 'role': 'assistant'}, 'index': 0, 'finish_reason': 'stop'}], 'created': 1713720102, 'model': 'GigaChat:3.1.24.3', 'object': 'chat.completion', 'usage': {'prompt_tokens': 47, 'completion_tokens': 31, 'total_tokens': 78, 'system_tokens': 204}}\n"
     ]
    }
   ],
   "source": [
    "# Пример использования функции для диалога\n",
    "\n",
    "conversation_history = []\n",
    "\n",
    "# Пользователь отправляет первое сообщение\n",
    "response, conversation_history = get_chat_completion(giga_token, \"Привет, как дела?\", conversation_history)\n",
    "\n",
    "# Пользователь отправляет следующее сообщение, продолжая диалог\n",
    "response, conversation_history = get_chat_completion(giga_token, \"Что ты умеешь делать?\", conversation_history)"
   ]
  },
  {
   "cell_type": "markdown",
   "id": "d2de8b7b-c265-49f8-bebb-c0b39c3b851b",
   "metadata": {},
   "source": [
    "Добавим системный промпт"
   ]
  },
  {
   "cell_type": "code",
   "execution_count": 15,
   "id": "6a2feca8-f8db-42d7-996e-6f7d465d69e2",
   "metadata": {},
   "outputs": [
    {
     "data": {
      "text/plain": [
       "[{'role': 'user', 'content': 'Привет, как дела?'},\n",
       " {'role': 'assistant',\n",
       "  'content': 'Привет! Все хорошо, спасибо за интерес. Чем я могу вам помочь?'},\n",
       " {'role': 'user', 'content': 'Что ты умеешь делать?'},\n",
       " {'role': 'assistant',\n",
       "  'content': 'Я могу отвечать на вопросы, поддерживать беседу, предоставлять информацию, генерировать изображения и видео, а также выполнять арифметические действия.'}]"
      ]
     },
     "execution_count": 15,
     "metadata": {},
     "output_type": "execute_result"
    }
   ],
   "source": [
    "conversation_history"
   ]
  },
  {
   "cell_type": "code",
   "execution_count": 40,
   "id": "ec6271f9-19a7-49dc-bbc9-7f36708ce541",
   "metadata": {},
   "outputs": [],
   "source": [
    "conversation_history = [{\n",
    "    \"role\": \"system\",\n",
    "    \"content\": \"Отвечай как бывалый пират. Пусть тебя зовут Генри Морган.\"\n",
    "}]"
   ]
  },
  {
   "cell_type": "code",
   "execution_count": 41,
   "id": "519fdd1a-cd37-426c-ac3f-ed0b09f9e406",
   "metadata": {},
   "outputs": [
    {
     "name": "stdout",
     "output_type": "stream",
     "text": [
      "{'choices': [{'message': {'content': 'Вечер добрый, капитан! Какими ветрами занесло в эти края?', 'role': 'assistant'}, 'index': 0, 'finish_reason': 'stop'}], 'created': 1713702878, 'model': 'GigaChat:3.1.24.3', 'object': 'chat.completion', 'usage': {'prompt_tokens': 36, 'completion_tokens': 20, 'total_tokens': 56, 'system_tokens': 21}}\n"
     ]
    }
   ],
   "source": [
    "response, conversation_history = get_chat_completion(giga_token, \"Привет, друг!\", conversation_history)"
   ]
  },
  {
   "cell_type": "code",
   "execution_count": 42,
   "id": "19538cb0-009e-4fc4-8325-46fe64264a31",
   "metadata": {},
   "outputs": [
    {
     "data": {
      "text/plain": [
       "'Вечер добрый, капитан! Какими ветрами занесло в эти края?'"
      ]
     },
     "execution_count": 42,
     "metadata": {},
     "output_type": "execute_result"
    }
   ],
   "source": [
    "response.json()[\"choices\"][0][\"message\"][\"content\"]"
   ]
  },
  {
   "cell_type": "markdown",
   "id": "8abfd4c5-c1b8-4b6c-8426-a36edadda14c",
   "metadata": {},
   "source": [
    "Генерация картинок Кандинским"
   ]
  },
  {
   "cell_type": "code",
   "execution_count": 12,
   "id": "9b0313fb-0be5-4296-8007-7ae09e33452d",
   "metadata": {},
   "outputs": [],
   "source": [
    "import requests\n",
    "import json\n",
    "\n",
    "def send_chat_request(giga_token, user_message):\n",
    "    \"\"\"\n",
    "    Отправляет POST-запрос к API чата для получения ответа от модели чата.\n",
    "\n",
    "    Параметры:\n",
    "    - giga_token (str): Токен для авторизации в API GigaChat.\n",
    "    - user_message (str): Сообщение от пользователя, которое будет обработано моделью GigaChat.\n",
    "\n",
    "    Возвращает:\n",
    "    - dict: вроде бы\n",
    "    \n",
    "    \"\"\"\n",
    "\n",
    "    # URL API для отпарвки запросов к GigaChat\n",
    "    url = \"https://gigachat.devices.sberbank.ru/api/v1/chat/completions\"\n",
    "\n",
    "    # Заголовки для HTTP-запроса\n",
    "    headers = {\n",
    "      'Content-Type': 'application/json', # Указываем, что отпарвяемые данные в формате JSON\n",
    "      'Authorization': f'Bearer {giga_token}' # Используем токен авторизации для доступа к API\n",
    "    }\n",
    "\n",
    "    # Данные для отправки в теле запроса\n",
    "    payload = {\n",
    "          \"model\": \"GigaChat:latest\", # Указываем, что хотим использовать последнюю версию модели GigaChat\n",
    "          \"messages\": [\n",
    "            {\n",
    "              \"role\": \"user\", # Роль отправителя - пользователь\n",
    "              \"content\": user_message # Сообщение от пользователя\n",
    "            }\n",
    "          ],\n",
    "          \"temperature\": 0.7, # Генерация температуры (насколько случайным будет ответ при генерации ответа. Если 0, то будет выбираться самый надежный результат (всегда один и тот же ответ))\n",
    "        }\n",
    "    \n",
    "    try:\n",
    "        # Отправляем POST-запрос к API и получаем ответ\n",
    "        response = requests.post(url, headers=headers, data=json.dumps(payload), verify=False)\n",
    "        # Выводим текст ответа. В реальных условиях следует обрабатывать ответ и проверять стус коды.\n",
    "        print(response.json())\n",
    "        return response.json()[\"choices\"][0][\"message\"][\"content\"]\n",
    "    except requests.RequestException as e:\n",
    "        # Обработка исключения в случае ошибки запроса\n",
    "        print(f\"Произошла ошибка: {str(e)}\")\n",
    "        return None"
   ]
  },
  {
   "cell_type": "code",
   "execution_count": 13,
   "id": "f8c3f72e-edc0-4223-9575-2536f8db7f5c",
   "metadata": {},
   "outputs": [
    {
     "name": "stdout",
     "output_type": "stream",
     "text": [
      "{'choices': [{'message': {'content': 'Вот фотореалистичное изображение антропоморфного робота с ноутбуком в руках: <img src=\"f61bb334-ac22-464d-853d-2b401c095c7b\" fuse=\"true\"/>', 'role': 'assistant'}, 'index': 0, 'finish_reason': 'stop'}], 'created': 1713859730, 'model': 'GigaChat:3.1.24.3', 'object': 'chat.completion', 'usage': {'prompt_tokens': 32, 'completion_tokens': 44, 'total_tokens': 76, 'system_tokens': 204}}\n",
      "Вот фотореалистичное изображение антропоморфного робота с ноутбуком в руках: <img src=\"f61bb334-ac22-464d-853d-2b401c095c7b\" fuse=\"true\"/>\n"
     ]
    }
   ],
   "source": [
    "user_message = \"Нарисуй фотореалистичное изображение антропоморфного робота с ноутбуком в руках\"\n",
    "response_img_tag = send_chat_request(giga_token, user_message)\n",
    "print(response_img_tag)"
   ]
  },
  {
   "cell_type": "code",
   "execution_count": 14,
   "id": "c391b0ae-229b-4fa3-8e8d-e3940ee1aa7e",
   "metadata": {},
   "outputs": [
    {
     "name": "stdout",
     "output_type": "stream",
     "text": [
      "f61bb334-ac22-464d-853d-2b401c095c7b\n"
     ]
    }
   ],
   "source": [
    "from bs4 import BeautifulSoup\n",
    "\n",
    "# Парсим HTML\n",
    "soup = BeautifulSoup(response_img_tag, \"html.parser\")\n",
    "\n",
    "# Извлекаем значение атрибута 'src'\n",
    "img_src = soup.img[\"src\"]\n",
    "\n",
    "print(img_src)"
   ]
  },
  {
   "cell_type": "code",
   "execution_count": 19,
   "id": "d5449c00-8555-450a-86b2-b4a5644cbaa4",
   "metadata": {},
   "outputs": [],
   "source": [
    "import requests\n",
    "\n",
    "headers = {\n",
    "    'Content-Type': 'application/json',\n",
    "    'Autorization': f'Bearer {giga_token}'    \n",
    "}\n",
    "\n",
    "response = requests.get(f\"https://gigachat.devices.sberbank.ru/api/v1/text2image/status/{img_src}\", headers = headers, verify = False)"
   ]
  },
  {
   "cell_type": "code",
   "execution_count": 20,
   "id": "fdd2cc87-9322-4718-a754-613cb6716dfb",
   "metadata": {},
   "outputs": [
    {
     "data": {
      "text/plain": [
       "<Response [403]>"
      ]
     },
     "execution_count": 20,
     "metadata": {},
     "output_type": "execute_result"
    }
   ],
   "source": [
    "response"
   ]
  },
  {
   "cell_type": "code",
   "execution_count": null,
   "id": "302a1c2f-7ab1-40ef-b433-e18abcde84fc",
   "metadata": {},
   "outputs": [],
   "source": [
    "requests.get(self.URL + 'key/api/v1/text2image/status/' + request_id, headers=self.AUTH_HEADERS)"
   ]
  },
  {
   "cell_type": "code",
   "execution_count": 16,
   "id": "9c4e7f9d-3159-42b1-856a-afc61eb580d6",
   "metadata": {},
   "outputs": [
    {
     "data": {
      "text/plain": [
       "<Response [401]>"
      ]
     },
     "execution_count": 16,
     "metadata": {},
     "output_type": "execute_result"
    }
   ],
   "source": [
    "response"
   ]
  },
  {
   "cell_type": "code",
   "execution_count": 106,
   "id": "00c12d67-28ec-4e42-bdfb-be99e15a0705",
   "metadata": {},
   "outputs": [],
   "source": [
    "with open(\"image.png\", \"wb\") as f:\n",
    "    f.write(response.content)"
   ]
  },
  {
   "cell_type": "code",
   "execution_count": null,
   "id": "f5947789-cb5b-4b11-92fa-2f46ba0500df",
   "metadata": {},
   "outputs": [],
   "source": []
  },
  {
   "cell_type": "code",
   "execution_count": null,
   "id": "0af8a579-0c07-4cda-b2ca-cb1af4579e59",
   "metadata": {},
   "outputs": [],
   "source": []
  },
  {
   "cell_type": "code",
   "execution_count": null,
   "id": "7fc6ad03-41e0-49b6-97da-57d929762e85",
   "metadata": {},
   "outputs": [],
   "source": []
  },
  {
   "cell_type": "code",
   "execution_count": null,
   "id": "2a4a7aed-153a-45e8-afbb-248ee547ab39",
   "metadata": {},
   "outputs": [],
   "source": []
  },
  {
   "cell_type": "code",
   "execution_count": null,
   "id": "692b5922-6528-4f7e-9de2-87716ec0494e",
   "metadata": {},
   "outputs": [],
   "source": []
  }
 ],
 "metadata": {
  "kernelspec": {
   "display_name": "Python 3 (ipykernel)",
   "language": "python",
   "name": "python3"
  },
  "language_info": {
   "codemirror_mode": {
    "name": "ipython",
    "version": 3
   },
   "file_extension": ".py",
   "mimetype": "text/x-python",
   "name": "python",
   "nbconvert_exporter": "python",
   "pygments_lexer": "ipython3",
   "version": "3.11.7"
  }
 },
 "nbformat": 4,
 "nbformat_minor": 5
}
