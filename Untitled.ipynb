{
 "cells": [
  {
   "cell_type": "code",
   "execution_count": 1,
   "id": "7fb3e030-c97c-4343-89c8-0fe8dc95eec6",
   "metadata": {},
   "outputs": [],
   "source": [
    "import pandas as pd\n",
    "import os"
   ]
  },
  {
   "cell_type": "code",
   "execution_count": 5,
   "id": "76337ff3-b5c4-4d66-834c-63b4040431f2",
   "metadata": {},
   "outputs": [],
   "source": [
    "df = pd.read_excel(r\"C:\\Users\\IRoma\\Documents\\Хакатон\\hackathon\\resumes\\resumes.xlsx\")"
   ]
  },
  {
   "cell_type": "code",
   "execution_count": 7,
   "id": "277a77f3-90f3-41cc-9e8b-5ceef4fb1101",
   "metadata": {},
   "outputs": [],
   "source": [
    "df.fillna(\"-\").to_excel(r\"C:\\Users\\IRoma\\Documents\\Хакатон\\hackathon\\resumes\\resumes.xlsx\", index = False)"
   ]
  },
  {
   "cell_type": "code",
   "execution_count": 1,
   "id": "ee530942-f24e-4a3e-9d87-6ed4bb050222",
   "metadata": {},
   "outputs": [],
   "source": [
    "#Уберем предупреждения, чтобы они не загромождали вывод\n",
    "import warnings \n",
    "warnings.filterwarnings('ignore')"
   ]
  },
  {
   "cell_type": "code",
   "execution_count": 2,
   "id": "de32e48d-75f0-4963-bf8c-d6a153a5b4c2",
   "metadata": {},
   "outputs": [],
   "source": [
    "client_id = 'bcf40466-3e35-4583-a25b-a73219d9f796'\n",
    "secret = '35709e53-1531-40f5-8fe2-bfb739a190e8'\n",
    "auth = 'YmNmNDA0NjYtM2UzNS00NTgzLWEyNWItYTczMjE5ZDlmNzk2OjM1NzA5ZTUzLTE1MzEtNDBmNS04ZmUyLWJmYjczOWExOTBlOA=='"
   ]
  },
  {
   "cell_type": "code",
   "execution_count": 3,
   "id": "4d113386-5af7-4dbf-bbb3-6dea8e3689d0",
   "metadata": {},
   "outputs": [],
   "source": [
    "import requests\n",
    "import uuid"
   ]
  },
  {
   "cell_type": "code",
   "execution_count": 4,
   "id": "df36580d-a406-447a-9dc7-7d4d60658a76",
   "metadata": {},
   "outputs": [],
   "source": [
    "def get_token(auth_token, scope = 'GIGACHAT_API_PERS'):\n",
    "    \"\"\"\n",
    "    Выполняет POST-запрос к эндпоинту, который выдает токен.\n",
    "\n",
    "    Параметры:\n",
    "    - auth_token (str): токен авторизации, необходимый для запроса.\n",
    "    - область (str): область действия запроса API. По умолчанию - \"GIGACHAT_API_PERS\" (физическое лицо, иначе юридическое).\n",
    "\n",
    "    Возвращает:\n",
    "    - ответ API, где токен и срок его \"годности\".\n",
    "    \"\"\"\n",
    "\n",
    "    # создадим идентификатор UUID (36 знаков)\n",
    "    rq_uid = str(uuid.uuid4())\n",
    "\n",
    "    # API URL\n",
    "    url = \"https://ngw.devices.sberbank.ru:9443/api/v2/oauth\"\n",
    "\n",
    "    # Заголовки\n",
    "    headers = {\n",
    "      'Content-Type': 'application/x-www-form-urlencoded',\n",
    "      'Accept': 'application/json',\n",
    "      'RqUID': rq_uid,\n",
    "      'Authorization': f'Basic {auth_token}'\n",
    "    }\n",
    "\n",
    "    # Тело запроса\n",
    "    payload = {\"scope\" : scope}\n",
    "\n",
    "    try:\n",
    "        # делаем POST запрос с отключенной SSL верификацией\n",
    "        # (можно скачать сертификаты Минцифры, тогда отлюкчать проверку не надо)\n",
    "        response = requests.post(url, headers = headers, data = payload, verify = False)\n",
    "        return response\n",
    "    except requests.RequestException as e:\n",
    "        print(f\"Ошибка: {str(e)}\")\n",
    "        return -1"
   ]
  },
  {
   "cell_type": "code",
   "execution_count": 5,
   "id": "08acbf01-0685-40a2-9c52-a248f4a20a10",
   "metadata": {},
   "outputs": [
    {
     "name": "stdout",
     "output_type": "stream",
     "text": [
      "{\"access_token\":\"eyJjdHkiOiJqd3QiLCJlbmMiOiJBMjU2Q0JDLUhTNTEyIiwiYWxnIjoiUlNBLU9BRVAtMjU2In0.h4bna-yu-tIKUAFtkWqsXiwWsiQxN5aEHLUlubd41c2yomSwa-n8zS0UxNPC6oSvkOLNv0sQjZ4XjaMczHyYf5Ekjh5VuY_c00gMYdbqTZK-y5mBdApbvpkOiq5NYAoskpJAfWqhQSG-v7r4kZfFlJPL1-SN7SacTdcMW-t4QqS7OGamrQydZmSeYQmlbUTtte1aZWqg3TzaAYQTiCJAKZ_-NIn9XVHWJWh4eZ5ph459HFqaSrPh-wWGBqkuJfr1dVDG74O4k0tCMYy57NgSFeTYAGrNKl3GHiuXot2dSLUkpQ4ITp7dSBVHIkEOk5DKxGCojzOx5LbNc0CcP7Xpgw.AFNzKPAWN8Ycsv80RCqG_A.50ptvcmyoouiw5RuHAi6tVND-DZL7sqeeV-AsVVsLOpORefmuYqV1pjNEa1C68lGUp2pIiwadUDPRIhu7BNzK3-i_LnR8HzHReydcJoqqpRiYUkxhioeeImUEwUGw2ucS_Q5PgNf28xOArhQ0oOkB8loqeNcZfXSA_8qHqehxW4bSeigqlybiPu1BtpYQ3I3pQJp7edjVYdTT0FvwqlOqF28XFTCapypb1nO8zo1kJok6xbAvrbZlA4gxoLsuhnj4k_OicdNzbDGu4Q-RkEsRV1nYnsJoFi-lAH2YHvOHqAl7IYjZW-uRADAzuJLG5qYVQCaVsksXmkuEXMSZBahoZ0FYl8W0yJOrPX_O-_48vgpHzsvibemBonwjbAsG4oeRxFpsOxi9AmXn-IidBKoC6rJWmM6PY8WyviWzhV6icZzAB6LL5eAw-faS5MO1Q066COXs-3qxM8dcWnEUFhH0O1ZAVoYVhIn__sUITmxjCwA1VjaYeZJkwBE7ytVMoPrZ_1TlMCs5vmPIUoO-ph7xEC43DUJXremv3OfAIIBtZm7nq703RMAzkgFPM0FIcT2CqezA0V-D2rNwtCCRzvH9oe4zMDXzn3nnWh1z0gFxjkEK_NtqPway1MtDBaKM3A34Jw7p_wQLjofgve7-Z7UIlZEJyoRJno4hoIA8Ssz1DC_0CVc0zhew2bhbl9MWQPBPAl5-3rwlea0hMXS1SrZ-K82dlCA86jCgiYpUq_Cjbg.BImkzqbfIcK6lCMBAHGb6o2D-oenprjJ9H1ANFqc738\",\"expires_at\":1713994829469}\n"
     ]
    }
   ],
   "source": [
    "response = get_token(auth)\n",
    "if response != -1:\n",
    "    print(response.text)\n",
    "    giga_token = response.json()[\"access_token\"]"
   ]
  },
  {
   "cell_type": "code",
   "execution_count": 8,
   "id": "f16c92cb-70f8-4d46-8857-7977193dadc4",
   "metadata": {},
   "outputs": [],
   "source": [
    "import requests\n",
    "import json\n",
    "\n",
    "def send_chat_request(giga_token, user_message):\n",
    "    \"\"\"\n",
    "    Отправляет POST-запрос к API чата для получения ответа от модели чата.\n",
    "\n",
    "    Параметры:\n",
    "    - giga_token (str): Токен для авторизации в API GigaChat.\n",
    "    - user_message (str): Сообщение от пользователя, которое будет обработано моделью GigaChat.\n",
    "\n",
    "    Возвращает:\n",
    "    - dict: вроде бы\n",
    "    \n",
    "    \"\"\"\n",
    "\n",
    "    # URL API для отпарвки запросов к GigaChat\n",
    "    url = \"https://gigachat.devices.sberbank.ru/api/v1/chat/completions\"\n",
    "\n",
    "    # Заголовки для HTTP-запроса\n",
    "    headers = {\n",
    "      'Content-Type': 'application/json', # Указываем, что отпарвяемые данные в формате JSON\n",
    "      'Authorization': f'Bearer {giga_token}' # Используем токен авторизации для доступа к API\n",
    "    }\n",
    "\n",
    "    # Данные для отправки в теле запроса\n",
    "    payload = {\n",
    "          \"model\": \"GigaChat:latest\", # Указываем, что хотим использовать последнюю версию модели GigaChat\n",
    "          \"messages\": [\n",
    "            {\n",
    "              \"role\": \"user\", # Роль отправителя - пользователь\n",
    "              \"content\": user_message # Сообщение от пользователя\n",
    "            }\n",
    "          ],\n",
    "          \"temperature\": 0.7, # Генерация температуры (насколько случайным будет ответ при генерации ответа. Если 0, то будет выбираться самый надежный результат (всегда один и тот же ответ))\n",
    "        }\n",
    "    \n",
    "    try:\n",
    "        # Отправляем POST-запрос к API и получаем ответ\n",
    "        response = requests.post(url, headers=headers, data=json.dumps(payload), verify=False)\n",
    "        # Выводим текст ответа. В реальных условиях следует обрабатывать ответ и проверять стус коды.\n",
    "        print(response.json())\n",
    "        return response.json()[\"choices\"][0][\"message\"][\"content\"]\n",
    "    except requests.RequestException as e:\n",
    "        # Обработка исключения в случае ошибки запроса\n",
    "        print(f\"Произошла ошибка: {str(e)}\")\n",
    "        return None"
   ]
  },
  {
   "cell_type": "code",
   "execution_count": 9,
   "id": "bb6bf321-bbf9-435f-b83b-c83d2d9ecff2",
   "metadata": {},
   "outputs": [
    {
     "name": "stdout",
     "output_type": "stream",
     "text": [
      "{'choices': [{'message': {'content': 'Вот фотореалистичное изображение антропоморфного робота с ноутбуком в руках: <img src=\"43745d83-8882-484c-a66b-204c66cfe4b7\" fuse=\"true\"/>', 'role': 'assistant'}, 'index': 0, 'finish_reason': 'stop'}], 'created': 1713993115, 'model': 'GigaChat:3.1.24.3', 'object': 'chat.completion', 'usage': {'prompt_tokens': 32, 'completion_tokens': 44, 'total_tokens': 76, 'system_tokens': 204}}\n",
      "Вот фотореалистичное изображение антропоморфного робота с ноутбуком в руках: <img src=\"43745d83-8882-484c-a66b-204c66cfe4b7\" fuse=\"true\"/>\n"
     ]
    }
   ],
   "source": [
    "user_message = \"Нарисуй фотореалистичное изображение антропоморфного робота с ноутбуком в руках\"\n",
    "response_img_tag = send_chat_request(giga_token, user_message)\n",
    "print(response_img_tag)"
   ]
  },
  {
   "cell_type": "code",
   "execution_count": 10,
   "id": "78f924de-3659-47ce-96bf-86956a8fea4d",
   "metadata": {},
   "outputs": [
    {
     "name": "stdout",
     "output_type": "stream",
     "text": [
      "43745d83-8882-484c-a66b-204c66cfe4b7\n"
     ]
    }
   ],
   "source": [
    "from bs4 import BeautifulSoup\n",
    "\n",
    "# Парсим HTML\n",
    "soup = BeautifulSoup(response_img_tag, \"html.parser\")\n",
    "\n",
    "# Извлекаем значение атрибута 'src'\n",
    "img_src = soup.img[\"src\"]\n",
    "\n",
    "print(img_src)"
   ]
  },
  {
   "cell_type": "code",
   "execution_count": 11,
   "id": "07351deb-7b34-45a1-b5ee-5e3414d21bcc",
   "metadata": {},
   "outputs": [],
   "source": [
    "import requests\n",
    "\n",
    "headers = {\n",
    "    'Content-Type': 'application/json',\n",
    "    'Autorization': f'Bearer {giga_token}'    \n",
    "}\n",
    "\n",
    "response = requests.get(f\"https://gigachat.devices.sberbank.ru/api/v1/text2image/status/{img_src}\", headers = headers, verify = False)"
   ]
  },
  {
   "cell_type": "code",
   "execution_count": 12,
   "id": "68d8abf1-45d7-4f24-9e50-951d574e01b1",
   "metadata": {},
   "outputs": [
    {
     "data": {
      "text/plain": [
       "<Response [403]>"
      ]
     },
     "execution_count": 12,
     "metadata": {},
     "output_type": "execute_result"
    }
   ],
   "source": [
    "response"
   ]
  },
  {
   "cell_type": "code",
   "execution_count": null,
   "id": "13ce9af8-def4-418e-abea-bc92a8ab176a",
   "metadata": {},
   "outputs": [],
   "source": [
    "import requests\n",
    "\n",
    "# Замените на ваш API ключ и секретный ключ\n",
    "api_key = 'your_api_key'\n",
    "secret_key = 'your_secret_key'\n",
    "\n",
    "# URL для аутентификации и выбора модели\n",
    "url = 'https://api-key.fusionbrain.ai/'\n",
    "\n",
    "# Заголовки для аутентификации\n",
    "auth_headers = {\n",
    "    'X-Key': f'Key {api_key}',\n",
    "    'X-Secret': f'Secret {secret_key}',\n",
    "}\n",
    "\n",
    "# Получение ID модели\n",
    "response = requests.get(url + 'key/api/v1/models', headers=auth_headers)\n",
    "data = response.json()\n",
    "model_id = data[0]['id']\n",
    "\n",
    "# Параметры для генерации изображения\n",
    "generate_params = {\n",
    "    \"type\": \"GENERATE\",\n",
    "    \"width\": 1024,\n",
    "    \"height\": 1024,\n",
    "    \"numImages\": 1,\n",
    "    \"query\": \"Пушистый кот в очках\",\n",
    "    \"style\": \"ANIME\",\n",
    "}\n",
    "\n",
    "# Отправка запроса на генерацию изображения\n",
    "generate_response = requests.post(url + f'key/api/v1/text2image/run/{model_id}', headers=auth_headers, json=generate_params)\n",
    "\n",
    "# Получение ссылки на изображение из ответа\n",
    "image_url = generate_response.json()['image_url'] # Предполагается, что в ответе есть поле 'image_url' с ссылкой на изображение\n",
    "\n",
    "print(image_url)"
   ]
  },
  {
   "cell_type": "code",
   "execution_count": null,
   "id": "22b8c79b-7973-4d73-bfbe-29f0a5ae01d3",
   "metadata": {},
   "outputs": [],
   "source": []
  },
  {
   "cell_type": "code",
   "execution_count": null,
   "id": "a5ae4f20-ab2d-4ed2-8eac-e67e17a605be",
   "metadata": {},
   "outputs": [],
   "source": []
  },
  {
   "cell_type": "code",
   "execution_count": null,
   "id": "c59ee61f-484f-4b54-93dd-ab1232a277bf",
   "metadata": {},
   "outputs": [],
   "source": [
    "client_id = 'bcf40466-3e35-4583-a25b-a73219d9f796'\n",
    "secret = '35709e53-1531-40f5-8fe2-bfb739a190e8'\n",
    "auth = 'YmNmNDA0NjYtM2UzNS00NTgzLWEyNWItYTczMjE5ZDlmNzk2OjM1NzA5ZTUzLTE1MzEtNDBmNS04ZmUyLWJmYjczOWExOTBlOA=='"
   ]
  },
  {
   "cell_type": "code",
   "execution_count": null,
   "id": "85e0d7e0-41b5-43b8-bffd-0c07915a5d6c",
   "metadata": {},
   "outputs": [],
   "source": []
  },
  {
   "cell_type": "code",
   "execution_count": 14,
   "id": "1c8369f9-f4ea-4086-b4df-6fe51b5d9b38",
   "metadata": {},
   "outputs": [
    {
     "ename": "KeyError",
     "evalue": "0",
     "output_type": "error",
     "traceback": [
      "\u001b[1;31m---------------------------------------------------------------------------\u001b[0m",
      "\u001b[1;31mKeyError\u001b[0m                                  Traceback (most recent call last)",
      "Cell \u001b[1;32mIn[14], line 1\u001b[0m\n\u001b[1;32m----> 1\u001b[0m data[\u001b[38;5;241m0\u001b[39m][\u001b[38;5;124m'\u001b[39m\u001b[38;5;124mid\u001b[39m\u001b[38;5;124m'\u001b[39m]\n",
      "\u001b[1;31mKeyError\u001b[0m: 0"
     ]
    }
   ],
   "source": [
    "data[0]['id']"
   ]
  },
  {
   "cell_type": "code",
   "execution_count": 15,
   "id": "8b11a46c-9aca-411d-9782-c544166035e2",
   "metadata": {},
   "outputs": [
    {
     "data": {
      "text/plain": [
       "{'timestamp': '2024-04-24T21:34:31.538+00:00',\n",
       " 'path': '/key/api/v1/models',\n",
       " 'status': 401,\n",
       " 'error': 'Unauthorized',\n",
       " 'message': None,\n",
       " 'requestId': '5951e7ad-3950801'}"
      ]
     },
     "execution_count": 15,
     "metadata": {},
     "output_type": "execute_result"
    }
   ],
   "source": [
    "data"
   ]
  },
  {
   "cell_type": "code",
   "execution_count": 32,
   "id": "0e3206e1-b09d-4aa4-94cf-0643d7ee8647",
   "metadata": {},
   "outputs": [
    {
     "name": "stdout",
     "output_type": "stream",
     "text": [
      "0.0\n"
     ]
    }
   ],
   "source": [
    "from textblob import TextBlob\n",
    "\n",
    "text = \"Этот ресторан удивителен! Я обожаю еду здесь.\"\n",
    "blob = TextBlob(text)\n",
    "print(blob.sentiment.polarity)"
   ]
  },
  {
   "cell_type": "code",
   "execution_count": null,
   "id": "f18dc4c4-e7ad-4940-902d-76226fec4f14",
   "metadata": {},
   "outputs": [],
   "source": [
    "from textblob import TextBlob\n",
    "\n",
    "text = \"Этот ресторан удивителен! Я обожаю еду здесь.\"\n",
    "blob = TextBlob(text)\n",
    "print(blob.sentiment.polarity)"
   ]
  },
  {
   "cell_type": "code",
   "execution_count": 34,
   "id": "acc9f6ba-0ae9-4135-90d8-b4e4ad3d9dec",
   "metadata": {},
   "outputs": [
    {
     "data": {
      "text/plain": [
       "0.0"
      ]
     },
     "execution_count": 34,
     "metadata": {},
     "output_type": "execute_result"
    }
   ],
   "source": [
    "TextBlob(\"нет\").sentiment.polarity"
   ]
  },
  {
   "cell_type": "code",
   "execution_count": 16,
   "id": "6f36dec7-94fc-4bcc-b212-15f0cd178ed5",
   "metadata": {},
   "outputs": [
    {
     "data": {
      "text/plain": [
       "{'Content-Type': 'application/json',\n",
       " 'Autorization': 'Bearer eyJjdHkiOiJqd3QiLCJlbmMiOiJBMjU2Q0JDLUhTNTEyIiwiYWxnIjoiUlNBLU9BRVAtMjU2In0.h4bna-yu-tIKUAFtkWqsXiwWsiQxN5aEHLUlubd41c2yomSwa-n8zS0UxNPC6oSvkOLNv0sQjZ4XjaMczHyYf5Ekjh5VuY_c00gMYdbqTZK-y5mBdApbvpkOiq5NYAoskpJAfWqhQSG-v7r4kZfFlJPL1-SN7SacTdcMW-t4QqS7OGamrQydZmSeYQmlbUTtte1aZWqg3TzaAYQTiCJAKZ_-NIn9XVHWJWh4eZ5ph459HFqaSrPh-wWGBqkuJfr1dVDG74O4k0tCMYy57NgSFeTYAGrNKl3GHiuXot2dSLUkpQ4ITp7dSBVHIkEOk5DKxGCojzOx5LbNc0CcP7Xpgw.AFNzKPAWN8Ycsv80RCqG_A.50ptvcmyoouiw5RuHAi6tVND-DZL7sqeeV-AsVVsLOpORefmuYqV1pjNEa1C68lGUp2pIiwadUDPRIhu7BNzK3-i_LnR8HzHReydcJoqqpRiYUkxhioeeImUEwUGw2ucS_Q5PgNf28xOArhQ0oOkB8loqeNcZfXSA_8qHqehxW4bSeigqlybiPu1BtpYQ3I3pQJp7edjVYdTT0FvwqlOqF28XFTCapypb1nO8zo1kJok6xbAvrbZlA4gxoLsuhnj4k_OicdNzbDGu4Q-RkEsRV1nYnsJoFi-lAH2YHvOHqAl7IYjZW-uRADAzuJLG5qYVQCaVsksXmkuEXMSZBahoZ0FYl8W0yJOrPX_O-_48vgpHzsvibemBonwjbAsG4oeRxFpsOxi9AmXn-IidBKoC6rJWmM6PY8WyviWzhV6icZzAB6LL5eAw-faS5MO1Q066COXs-3qxM8dcWnEUFhH0O1ZAVoYVhIn__sUITmxjCwA1VjaYeZJkwBE7ytVMoPrZ_1TlMCs5vmPIUoO-ph7xEC43DUJXremv3OfAIIBtZm7nq703RMAzkgFPM0FIcT2CqezA0V-D2rNwtCCRzvH9oe4zMDXzn3nnWh1z0gFxjkEK_NtqPway1MtDBaKM3A34Jw7p_wQLjofgve7-Z7UIlZEJyoRJno4hoIA8Ssz1DC_0CVc0zhew2bhbl9MWQPBPAl5-3rwlea0hMXS1SrZ-K82dlCA86jCgiYpUq_Cjbg.BImkzqbfIcK6lCMBAHGb6o2D-oenprjJ9H1ANFqc738'}"
      ]
     },
     "execution_count": 16,
     "metadata": {},
     "output_type": "execute_result"
    }
   ],
   "source": [
    "headers"
   ]
  },
  {
   "cell_type": "code",
   "execution_count": null,
   "id": "d1cb1d3f-9b77-42ed-b4a9-f770a67f5eb9",
   "metadata": {},
   "outputs": [],
   "source": [
    "headers = {\n",
    "  'Content-Type': 'application/x-www-form-urlencoded',\n",
    "  'Accept': 'application/json',\n",
    "  'RqUID': rq_uid,\n",
    "  'Authorization': f'Basic {auth_token}'\n",
    "}"
   ]
  },
  {
   "cell_type": "code",
   "execution_count": null,
   "id": "d5b997c5-3e04-42c4-a124-7e1abef3c457",
   "metadata": {},
   "outputs": [],
   "source": []
  },
  {
   "cell_type": "code",
   "execution_count": 21,
   "id": "1c560c7a-049c-4fff-b35d-5f15cbad0665",
   "metadata": {},
   "outputs": [],
   "source": [
    "import requests\n",
    "\n",
    "# Замените на ваш API ключ и секретный ключ\n",
    "api_key = 'C0526103E4D89D22A53C5B48012F2B7D'\n",
    "secret_key = 'AA35648B7896DD2C58BEC8453A7CDB52'\n",
    "\n",
    "# URL для аутентификации и выбора модели\n",
    "url = 'https://api-key.fusionbrain.ai/'\n",
    "\n",
    "# Заголовки для аутентификации\n",
    "auth_headers = {\n",
    "    'X-Key': f'Key {api_key}',\n",
    "    'X-Secret': f'Secret {secret_key}',\n",
    "}\n",
    "\n",
    "# Получение ID модели\n",
    "response = requests.get(url + 'key/api/v1/models', headers=auth_headers)\n",
    "data = response.json()\n",
    "model_id = data[0]['id']"
   ]
  },
  {
   "cell_type": "code",
   "execution_count": 26,
   "id": "d34746ef-c909-44b9-a5ce-55bcea67b3f2",
   "metadata": {},
   "outputs": [
    {
     "data": {
      "text/plain": [
       "4"
      ]
     },
     "execution_count": 26,
     "metadata": {},
     "output_type": "execute_result"
    }
   ],
   "source": [
    "model_id"
   ]
  },
  {
   "cell_type": "code",
   "execution_count": 23,
   "id": "a987e7e0-7447-43b4-a96e-90e2545b7123",
   "metadata": {},
   "outputs": [
    {
     "ename": "KeyError",
     "evalue": "'image_url'",
     "output_type": "error",
     "traceback": [
      "\u001b[1;31m---------------------------------------------------------------------------\u001b[0m",
      "\u001b[1;31mKeyError\u001b[0m                                  Traceback (most recent call last)",
      "Cell \u001b[1;32mIn[23], line 15\u001b[0m\n\u001b[0;32m     12\u001b[0m generate_response \u001b[38;5;241m=\u001b[39m requests\u001b[38;5;241m.\u001b[39mpost(url \u001b[38;5;241m+\u001b[39m \u001b[38;5;124mf\u001b[39m\u001b[38;5;124m'\u001b[39m\u001b[38;5;124mkey/api/v1/text2image/run/\u001b[39m\u001b[38;5;132;01m{\u001b[39;00mmodel_id\u001b[38;5;132;01m}\u001b[39;00m\u001b[38;5;124m'\u001b[39m, headers\u001b[38;5;241m=\u001b[39mauth_headers, json\u001b[38;5;241m=\u001b[39mgenerate_params)\n\u001b[0;32m     14\u001b[0m \u001b[38;5;66;03m# Получение ссылки на изображение из ответа\u001b[39;00m\n\u001b[1;32m---> 15\u001b[0m image_url \u001b[38;5;241m=\u001b[39m generate_response\u001b[38;5;241m.\u001b[39mjson()[\u001b[38;5;124m'\u001b[39m\u001b[38;5;124mimage_url\u001b[39m\u001b[38;5;124m'\u001b[39m] \u001b[38;5;66;03m# Предполагается, что в ответе есть поле 'image_url' с ссылкой на изображение\u001b[39;00m\n\u001b[0;32m     17\u001b[0m \u001b[38;5;28mprint\u001b[39m(image_url)\n",
      "\u001b[1;31mKeyError\u001b[0m: 'image_url'"
     ]
    }
   ],
   "source": [
    "# Параметры для генерации изображения\n",
    "generate_params = {\n",
    "    \"type\": \"GENERATE\",\n",
    "    \"width\": 1024,\n",
    "    \"height\": 1024,\n",
    "    \"numImages\": 1,\n",
    "    \"query\": \"Пушистый кот в очках\",\n",
    "    \"style\": \"ANIME\",\n",
    "}\n",
    "\n",
    "# Отправка запроса на генерацию изображения\n",
    "generate_response = requests.post(url + f'key/api/v1/text2image/run/{model_id}', headers=auth_headers, json=generate_params)\n",
    "\n",
    "# Получение ссылки на изображение из ответа\n",
    "image_url = generate_response.json()['image_url'] # Предполагается, что в ответе есть поле 'image_url' с ссылкой на изображение\n",
    "\n",
    "print(image_url)"
   ]
  },
  {
   "cell_type": "code",
   "execution_count": 25,
   "id": "65abb71e-7956-4379-a5cf-8fa9b8965446",
   "metadata": {},
   "outputs": [
    {
     "data": {
      "text/plain": [
       "{'timestamp': '2024-04-24T21:40:50.986+00:00',\n",
       " 'status': 404,\n",
       " 'error': 'Not Found',\n",
       " 'message': 'No message available',\n",
       " 'path': '/key/api/v1/text2image/run/4'}"
      ]
     },
     "execution_count": 25,
     "metadata": {},
     "output_type": "execute_result"
    }
   ],
   "source": [
    "generate_response.json()"
   ]
  },
  {
   "cell_type": "code",
   "execution_count": null,
   "id": "dca141f6-98f5-4355-9ceb-9ec0a63036ca",
   "metadata": {},
   "outputs": [],
   "source": []
  },
  {
   "cell_type": "code",
   "execution_count": null,
   "id": "8cbb4f2d-fc97-4ffd-a34d-6059fbb4a49b",
   "metadata": {},
   "outputs": [],
   "source": []
  }
 ],
 "metadata": {
  "kernelspec": {
   "display_name": "Python 3 (ipykernel)",
   "language": "python",
   "name": "python3"
  },
  "language_info": {
   "codemirror_mode": {
    "name": "ipython",
    "version": 3
   },
   "file_extension": ".py",
   "mimetype": "text/x-python",
   "name": "python",
   "nbconvert_exporter": "python",
   "pygments_lexer": "ipython3",
   "version": "3.11.7"
  }
 },
 "nbformat": 4,
 "nbformat_minor": 5
}
